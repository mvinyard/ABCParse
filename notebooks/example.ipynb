{
 "cells": [
  {
   "cell_type": "code",
   "execution_count": 2,
   "id": "fc55b562",
   "metadata": {},
   "outputs": [],
   "source": [
    "from ABCParse import ABCParse"
   ]
  },
  {
   "cell_type": "code",
   "execution_count": 3,
   "id": "a5b5f93b",
   "metadata": {},
   "outputs": [],
   "source": [
    "class SomeClass(ABCParse):\n",
    "    def __init__(self, arg1, arg2):\n",
    "        self.__parse__(kwargs=locals(), private=[\"arg1\"])"
   ]
  },
  {
   "cell_type": "code",
   "execution_count": 4,
   "id": "f1b0384f",
   "metadata": {},
   "outputs": [
    {
     "data": {
      "text/plain": [
       "(2, 3)"
      ]
     },
     "execution_count": 4,
     "metadata": {},
     "output_type": "execute_result"
    }
   ],
   "source": [
    "s = SomeClass(arg1=2, arg2=3)\n",
    "s._arg1, s.arg2"
   ]
  }
 ],
 "metadata": {
  "kernelspec": {
   "display_name": "Python 3 (ipykernel)",
   "language": "python",
   "name": "python3"
  },
  "language_info": {
   "codemirror_mode": {
    "name": "ipython",
    "version": 3
   },
   "file_extension": ".py",
   "mimetype": "text/x-python",
   "name": "python",
   "nbconvert_exporter": "python",
   "pygments_lexer": "ipython3",
   "version": "3.9.12"
  }
 },
 "nbformat": 4,
 "nbformat_minor": 5
}
